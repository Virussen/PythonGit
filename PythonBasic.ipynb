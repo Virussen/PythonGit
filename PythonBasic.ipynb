{
 "cells": [
  {
   "cell_type": "markdown",
   "metadata": {},
   "source": [
    "# Python基础教学与编程导论\n",
    "## Python简介代卷首语\n",
    "\n",
    "Python是一种高级编程语言，既然说高级编程语言，就有低级语言，比如C和JAVA，在语言的高级与低级中仅仅是指和机器的切合程度，从某种角度来说C++被列入中级语言。\n",
    "\n",
    "不同的语言显然在不同的方向上有着不同的优势，例如C语言就非常适合编写系统级的程序，C++就适合大型程序和对性能要求非常高的程序——例如高频交易，还有适合网页编程的JS等等。\n",
    "\n",
    "* 对于不同的需求，语言就会有不同的特性形成适合和不适合的语言，尽管在图灵机理论中任何一门经过图灵机的语言可以完成其他语言的工作——图灵完备性。\n",
    "\n",
    "从另一种角度来比较高级和低级语言来说，同样的一个程序，Python可能只需要20行，而C就需要1000行代码，然而对于运行速度，Python可能就需要10秒，而C只需要1秒不到的时间。\n",
    "\n",
    "Python最大的优势在于开发快速，相比于C，Python的开发速度大大快于C，在CPU不如时间贵的时代里，开发速度是非常重要的。\n",
    "\n",
    "当然Python也有不能做的事情，例如编写操作系统，手机应用，3D游戏等等。"
   ]
  },
  {
   "cell_type": "markdown",
   "metadata": {},
   "source": [
    "### Python历史\n",
    "\n",
    "Python是著名的“龟叔”Guido van Rossum在1989年圣诞节期间，为了打发无聊的圣诞节而编写的一个编程语言。\n",
    "\n",
    "### Python的缺点\n",
    "第一个缺点就是运行速度慢，和C程序相比非常慢，因为Python是解释型语言，你的代码在执行时会一行一行地翻译成CPU能理解的机器码，这个翻译过程非常耗时，所以很慢。而C程序是运行前直接编译成CPU能执行的机器码，所以非常快。\n",
    "\n",
    "第二个缺点就是代码不能加密。如果要发布你的Python程序，实际上就是发布源代码，这一点跟C语言不同，C语言不用发布源代码，只需要把编译后的机器码（也就是你在Windows上常见的xxx.exe文件）发布出去。要从机器码反推出C代码是不可能的，所以，凡是编译型的语言，都没有这个问题，而解释型的语言，则必须把源码发布出去。"
   ]
  },
  {
   "cell_type": "markdown",
   "metadata": {},
   "source": [
    "### Python的环境搭建\n",
    "* 以下仅关于Windows下的Python环境搭建问题\n",
    "\n",
    "\n",
    "\n",
    "1. 对于版本选择，由于现在的主要库和主要开发环境依然在2.X上，故选择2.X是最合理的\n",
    "\n",
    "2. 关于环境搭建的建议：Anaconda + PyCharm；前者是数据分析专用，后者则是Python工程中最优秀的IDE\n",
    "\n",
    "3. 关于文本编辑器，vim学习曲线太大，sublime和notepad++是非常优秀的文本编辑器"
   ]
  },
  {
   "cell_type": "markdown",
   "metadata": {},
   "source": [
    "## 从头开始——第一个程序"
   ]
  },
  {
   "cell_type": "code",
   "execution_count": 1,
   "metadata": {
    "collapsed": false
   },
   "outputs": [
    {
     "data": {
      "text/plain": [
       "300"
      ]
     },
     "execution_count": 1,
     "metadata": {},
     "output_type": "execute_result"
    }
   ],
   "source": [
    "100 + 200"
   ]
  },
  {
   "cell_type": "code",
   "execution_count": 2,
   "metadata": {
    "collapsed": false
   },
   "outputs": [
    {
     "name": "stdout",
     "output_type": "stream",
     "text": [
      "hello world\n"
     ]
    }
   ],
   "source": [
    "print 'hello world'"
   ]
  },
  {
   "cell_type": "markdown",
   "metadata": {},
   "source": [
    "以上是最简单的Python程序，由于在Python的IDLE（或在Anaconda的QtConsole下）是交互式界面所以，把Python当做一个简单的计算器也是很容易的事情。"
   ]
  },
  {
   "cell_type": "markdown",
   "metadata": {},
   "source": [
    "## 输入与输出\n",
    "\n",
    "Python中，print命令即为输出的命令，对于Python3的问题，print成为了一个函数。"
   ]
  },
  {
   "cell_type": "code",
   "execution_count": 4,
   "metadata": {
    "collapsed": false
   },
   "outputs": [
    {
     "name": "stdout",
     "output_type": "stream",
     "text": [
      "Hello World\n",
      "The quick brown fox jumps over the lazy dog\n",
      "Hello World\n",
      "\n",
      "300\n",
      "300\n"
     ]
    }
   ],
   "source": [
    "print 'Hello World'\n",
    "print 'The quick brown fox', 'jumps over', 'the lazy dog'\n",
    "print 'Hello World\\n'\n",
    "print 300\n",
    "print 100 + 200"
   ]
  },
  {
   "cell_type": "markdown",
   "metadata": {},
   "source": [
    "Python2中提供了两个输入命令，请注意两个命令的差别"
   ]
  },
  {
   "cell_type": "code",
   "execution_count": 5,
   "metadata": {
    "collapsed": false
   },
   "outputs": [
    {
     "name": "stdout",
     "output_type": "stream",
     "text": [
      "Please input your name:Logic\n",
      "Your name is  Logic\n",
      "Please input int or float:2\n",
      "<type 'str'>\n"
     ]
    }
   ],
   "source": [
    "name = raw_input('Please input your name:')\n",
    "print 'Your name is ', name\n",
    "b = raw_input('Please input int or float:')\n",
    "print type(b)"
   ]
  },
  {
   "cell_type": "code",
   "execution_count": 6,
   "metadata": {
    "collapsed": false
   },
   "outputs": [
    {
     "name": "stdout",
     "output_type": "stream",
     "text": [
      "Please input int or float:2\n",
      "Please input int or float:2.0\n",
      "<type 'int'> <type 'float'>\n"
     ]
    }
   ],
   "source": [
    "a = input('Please input int or float:')\n",
    "c = input('Please input int or float:')\n",
    "print type(a), type(c)"
   ]
  },
  {
   "cell_type": "markdown",
   "metadata": {},
   "source": [
    "可以清楚地看到，input命令会自动辨识你所输入的对象是什么类型，而raw_input则都默认为是字符串类型，从编程的角度来说，我们更推荐raw_input，而非input。"
   ]
  },
  {
   "cell_type": "markdown",
   "metadata": {},
   "source": [
    "## 基础语法\n",
    "\n",
    "Python语言不适用类似于C语言一样的{}来表示代码块，而是使用缩进表示一个代码块，根据Python社区公认的编辑标准PEP-8来说，请尽量以四个空格代替tab键。"
   ]
  },
  {
   "cell_type": "code",
   "execution_count": 8,
   "metadata": {
    "collapsed": false
   },
   "outputs": [
    {
     "name": "stdout",
     "output_type": "stream",
     "text": [
      "100\n"
     ]
    }
   ],
   "source": [
    "# 这里是注释在解释程序的时候，Python解释器会自动忽略\n",
    "'''\n",
    "这是另外一种注释方式，一般在开始或者需要的大段编辑的情况下作为使用\n",
    "'''\n",
    "a = 100\n",
    "if a >= 0:\n",
    "    print a\n",
    "else:\n",
    "    print -a"
   ]
  },
  {
   "cell_type": "markdown",
   "metadata": {},
   "source": [
    "## 数据类型\n",
    "* 整数\n",
    "* 浮点数\n",
    "* 字符串\n",
    "* 布尔代数\n",
    "* None（空值）\n",
    "* 字典\n",
    "* 列表\n",
    "* 元组\n",
    "* 集合"
   ]
  },
  {
   "cell_type": "code",
   "execution_count": 12,
   "metadata": {
    "collapsed": false
   },
   "outputs": [
    {
     "name": "stdout",
     "output_type": "stream",
     "text": [
      "<type 'int'> <type 'float'> <type 'str'> <type 'str'> <type 'bool'> <type 'list'> <type 'tuple'> <type 'dict'>\n"
     ]
    }
   ],
   "source": [
    "print type(1),type(0.1),type('I am OK'),type(''),type(True),type([1]),type((1,)),type({'ct':1})"
   ]
  },
  {
   "cell_type": "markdown",
   "metadata": {},
   "source": [
    "### 浮点数与整数需要注意的内容\n",
    "对于浮点数和整数而言，Python不会自动分割，因此在计算中尽量集中为浮点数运算。"
   ]
  },
  {
   "cell_type": "code",
   "execution_count": 13,
   "metadata": {
    "collapsed": false
   },
   "outputs": [
    {
     "name": "stdout",
     "output_type": "stream",
     "text": [
      "0 \n",
      "0.3\n"
     ]
    }
   ],
   "source": [
    "print 3/10,'\\n', 3.0/10"
   ]
  },
  {
   "cell_type": "markdown",
   "metadata": {},
   "source": [
    "### 字符串的编码问题\n",
    "Python2.X系列开始并不直接支持Utf-8，所以当使用中文的时候就会遇到编码错误，于是，解决方案应运而生，在代码的最开始添加一行就可以。"
   ]
  },
  {
   "cell_type": "code",
   "execution_count": 16,
   "metadata": {
    "collapsed": false
   },
   "outputs": [
    {
     "name": "stdout",
     "output_type": "stream",
     "text": [
      "你好，世界，我是Python\n"
     ]
    }
   ],
   "source": [
    "# -*- coding: utf-8 -*-\n",
    "print '你好，世界，我是Python'"
   ]
  },
  {
   "cell_type": "code",
   "execution_count": 15,
   "metadata": {
    "collapsed": false
   },
   "outputs": [
    {
     "name": "stdout",
     "output_type": "stream",
     "text": [
      "中文\n"
     ]
    }
   ],
   "source": [
    "print u'中文'"
   ]
  },
  {
   "cell_type": "markdown",
   "metadata": {},
   "source": [
    "### 字符串的格式化输出\n",
    "在很多情况下，我们需要一种能够格式化输出的方式，这种方式在C语言的时候已经产生，并沿革到Python中"
   ]
  },
  {
   "cell_type": "code",
   "execution_count": 17,
   "metadata": {
    "collapsed": false
   },
   "outputs": [
    {
     "name": "stdout",
     "output_type": "stream",
     "text": [
      "Hello, Mike, you have $10000000\n"
     ]
    }
   ],
   "source": [
    "print 'Hello, %s, you have $%d' %('Mike', 10000000)"
   ]
  },
  {
   "cell_type": "markdown",
   "metadata": {},
   "source": [
    "|占位符|意义|\n",
    "|---|---|\n",
    "|%d|整数|\n",
    "|%f|浮点数|\n",
    "|%s|字符串|\n",
    "|%x|十六进制数|\n",
    "|%%|单纯的表示%符号|"
   ]
  },
  {
   "cell_type": "code",
   "execution_count": 18,
   "metadata": {
    "collapsed": false
   },
   "outputs": [
    {
     "name": "stdout",
     "output_type": "stream",
     "text": [
      "3.14\n"
     ]
    }
   ],
   "source": [
    "print '%.2f' % 3.14159"
   ]
  },
  {
   "cell_type": "markdown",
   "metadata": {},
   "source": [
    "### 列表\n",
    "列表在Python的使用中可以说是一个神器，如果能够妥善的掌握了列表的一些特性，那么Python编程的水平和Geek度都会大幅度提升。\n",
    "\n",
    "#### 列表的基本\n",
    "\n",
    "* 列表是有序集合\n",
    "* 列表是可变的"
   ]
  },
  {
   "cell_type": "code",
   "execution_count": 19,
   "metadata": {
    "collapsed": false
   },
   "outputs": [
    {
     "name": "stdout",
     "output_type": "stream",
     "text": [
      "['Mike', 'Bob', 'Tracy']\n",
      "3\n",
      "Mike Bob Tracy Tracy\n"
     ]
    }
   ],
   "source": [
    "classmates = ['Mike', 'Bob', 'Tracy']\n",
    "print classmates\n",
    "print len(classmates)\n",
    "print classmates[0], classmates[1], classmates[2], classmates[-1]"
   ]
  },
  {
   "cell_type": "markdown",
   "metadata": {},
   "source": [
    "在上述的例子中，我们用到了列表的引用，在此可以很清晰的认识到，（-1）代表了从后往前取，而从前往后的索引在Python中则是从0开始的。"
   ]
  },
  {
   "cell_type": "markdown",
   "metadata": {},
   "source": [
    "#### 列表的修改"
   ]
  },
  {
   "cell_type": "code",
   "execution_count": 20,
   "metadata": {
    "collapsed": false
   },
   "outputs": [
    {
     "name": "stdout",
     "output_type": "stream",
     "text": [
      "['Mike', 'Bob', 'Tracy', 'Adam']\n"
     ]
    }
   ],
   "source": [
    "classmates.append('Adam')\n",
    "print classmates"
   ]
  },
  {
   "cell_type": "code",
   "execution_count": 21,
   "metadata": {
    "collapsed": false
   },
   "outputs": [
    {
     "name": "stdout",
     "output_type": "stream",
     "text": [
      "['Mike', 'Bob', 'Tracy']\n"
     ]
    }
   ],
   "source": [
    "classmates.pop()\n",
    "print classmates"
   ]
  },
  {
   "cell_type": "markdown",
   "metadata": {},
   "source": [
    "上述的两例可以看到，Python列表修改是非常简单的行为，然而在.append与.pop两者中，更重要的是Python列表同时可以作为一个栈(stack)数据模型应用。\n",
    "![](http://img4.imgtn.bdimg.com/it/u=2565148691,4849145&fm=21&gp=0.jpg)"
   ]
  },
  {
   "cell_type": "markdown",
   "metadata": {},
   "source": [
    "#### 额外之词：栈数据模型\n",
    "\n",
    "* 定义：栈是限定仅在表头进行插入和删除操作的线性表。\n",
    "* 栈解决了：\n",
    "\n",
    "\n",
    "\n",
    "1. 是参数传递的问题。传递参数的目的，是为了代码可以重用，让一种方法可以应用到更多的场合，而不需要为N种情况写N套类似的代码。那用什么方法来做参数的传递，可以选择:\n",
    "\n",
    "   1. 为了速度快，使用cpu的寄存器传递参数。这会碰到一个问题，cpu寄存器的数量是有限的，当函数内再想调用子函数的时候，再使用原有的cpu寄存器就会冲突了。想利用寄存器传参，就必须在调用子函数前吧寄存器存储起来，然后当函数退出的时候再恢复。\n",
    "\n",
    "   2. 利用某些ram的区域来传递参数。这和上面a的情况几乎一样，当函数嵌套调用的时候，还是会出现冲突，依然面临要把原本数据保存到其他地方，再调用嵌套函数。并且保存到什么地方，也面临困难，无论临时存储到哪里，都会有上面传递参数一样的困境。\n",
    "\n",
    "2. 函数里面必然要使用到局部变量，而不能总是用全局变量。则局部变量存储到哪里合适，即不能让函数嵌套的时候有冲突，又要注重效率。"
   ]
  },
  {
   "cell_type": "code",
   "execution_count": 22,
   "metadata": {
    "collapsed": false
   },
   "outputs": [
    {
     "name": "stdout",
     "output_type": "stream",
     "text": [
      "['Mike', 'Jack', 'Bob', 'Tracy']\n"
     ]
    }
   ],
   "source": [
    "classmates.insert(1, 'Jack')\n",
    "print classmates"
   ]
  },
  {
   "cell_type": "code",
   "execution_count": 23,
   "metadata": {
    "collapsed": false
   },
   "outputs": [
    {
     "data": {
      "text/plain": [
       "'Jack'"
      ]
     },
     "execution_count": 23,
     "metadata": {},
     "output_type": "execute_result"
    }
   ],
   "source": [
    "classmates.pop(1)"
   ]
  },
  {
   "cell_type": "code",
   "execution_count": 24,
   "metadata": {
    "collapsed": false
   },
   "outputs": [
    {
     "name": "stdout",
     "output_type": "stream",
     "text": [
      "['Mike', 'Bob', 'Tracy']\n"
     ]
    }
   ],
   "source": [
    "print classmates"
   ]
  },
  {
   "cell_type": "code",
   "execution_count": 25,
   "metadata": {
    "collapsed": false
   },
   "outputs": [
    {
     "name": "stdout",
     "output_type": "stream",
     "text": [
      "['Mike', 'Sarah', 'Tracy']\n"
     ]
    }
   ],
   "source": [
    "classmates[1] = 'Sarah'\n",
    "print classmates"
   ]
  },
  {
   "cell_type": "code",
   "execution_count": 27,
   "metadata": {
    "collapsed": false
   },
   "outputs": [],
   "source": [
    "L = ['Apple', 123, True]\n",
    "s1 = ['python', 'java', ['as','php'], 'scheme']\n",
    "p = ['as', 'php']\n",
    "s2 = ['python','java',p,'scheme']"
   ]
  },
  {
   "cell_type": "markdown",
   "metadata": {},
   "source": [
    "### 元组\n",
    "\n",
    "* 元组是有序的\n",
    "* 元组和列表的相似：有序\n",
    "* 元组和列表的差异：不可变"
   ]
  },
  {
   "cell_type": "code",
   "execution_count": 28,
   "metadata": {
    "collapsed": true
   },
   "outputs": [],
   "source": [
    "cm2 = ('Mike', 'Bob', 'Tracy')"
   ]
  },
  {
   "cell_type": "code",
   "execution_count": 29,
   "metadata": {
    "collapsed": false
   },
   "outputs": [
    {
     "name": "stdout",
     "output_type": "stream",
     "text": [
      "1 (1,)\n"
     ]
    }
   ],
   "source": [
    "t = (1)\n",
    "t1 = (1,)\n",
    "print t, t1"
   ]
  },
  {
   "cell_type": "code",
   "execution_count": 30,
   "metadata": {
    "collapsed": false
   },
   "outputs": [
    {
     "name": "stdout",
     "output_type": "stream",
     "text": [
      "A\n"
     ]
    }
   ],
   "source": [
    "t = ('a', 'b', ['A', 'B'])\n",
    "print t[2][0]"
   ]
  },
  {
   "cell_type": "markdown",
   "metadata": {},
   "source": [
    "### 字典\n",
    "字典，全称dictionary，简称dict，其他语言中也存在，称为map。\n",
    "\n",
    "dictionary的特性：使用键-值存储，查找速度是极快的。\n",
    "\n",
    "字典与JSON数据类型相似，甚至可以说一样。"
   ]
  },
  {
   "cell_type": "code",
   "execution_count": 31,
   "metadata": {
    "collapsed": false
   },
   "outputs": [
    {
     "name": "stdout",
     "output_type": "stream",
     "text": [
      "95\n"
     ]
    }
   ],
   "source": [
    "scored = {'Mike':95, 'Bob':75, 'Tracy':85}\n",
    "print scored['Mike']"
   ]
  },
  {
   "cell_type": "code",
   "execution_count": 32,
   "metadata": {
    "collapsed": true
   },
   "outputs": [],
   "source": [
    "scored['Adam'] = 75"
   ]
  },
  {
   "cell_type": "code",
   "execution_count": 33,
   "metadata": {
    "collapsed": false
   },
   "outputs": [
    {
     "data": {
      "text/plain": [
       "{'Adam': 75, 'Bob': 75, 'Mike': 95, 'Tracy': 85}"
      ]
     },
     "execution_count": 33,
     "metadata": {},
     "output_type": "execute_result"
    }
   ],
   "source": [
    "scored"
   ]
  }
 ],
 "metadata": {
  "kernelspec": {
   "display_name": "Python 2",
   "language": "python",
   "name": "python2"
  },
  "language_info": {
   "codemirror_mode": {
    "name": "ipython",
    "version": 2
   },
   "file_extension": ".py",
   "mimetype": "text/x-python",
   "name": "python",
   "nbconvert_exporter": "python",
   "pygments_lexer": "ipython2",
   "version": "2.7.10"
  }
 },
 "nbformat": 4,
 "nbformat_minor": 0
}
