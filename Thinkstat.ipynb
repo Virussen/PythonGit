{
 "cells": [
  {
   "cell_type": "markdown",
   "metadata": {},
   "source": [
    "# 统计思维课程\n",
    "## 简介\n",
    "本课程是建立在利用Python实现概率论与数理统计的基础上的一门关于数据分析的基础课程，利用Python语言将统计学的主要脉络进行了概览性的分析与讨论。\n",
    "## 课程的主要内容与安排\n",
    "* 统计思维的简介\n",
    "* 描述性统计\n",
    "* 累积分布\n",
    "* 连续分布\n",
    "* 指数分布\n",
    "* 概率\n",
    "* 分布的运算\n",
    "* 假设检验\n",
    "* 估计\n",
    "* 相关性\n",
    "* 推荐阅读"
   ]
  },
  {
   "cell_type": "markdown",
   "metadata": {},
   "source": [
    "## 统计思维简介\n",
    "本课程中，将主要介绍三门相互关联的学科，即概率论，统计学，计算。从而获得概率论与统计学的知识与思维方式。以计算为实现手段剖析概率论与数理统计的数学思维。\n",
    "\n",
    "### 当下热点：二胎问题\n",
    "和生孩子最有关系的是生孩子的时间，比如妊娠期超过了某一段时间就会晚产，太少则是早产。\n",
    "\n",
    "关于这类问题其实已经有了很多的经验之谈，你去医院的产房就能听到很多，但是经验之谈有很多实际的问题，让经验之谈的价值几乎为零：\n",
    "\n",
    "* 观察数量太少，个人的经验之谈往往并没有怎样的借鉴作用，如果是医生或者产科护士则另当别论。\n",
    "* 选择偏差，一般来说第一胎比较晚的父母才会有兴趣加入这样的讨论，正常人谁管你。\n",
    "* 确认偏差，支持实例和反例其实都不少\n",
    "* 不精确，传闻、个人经历在记忆和复述中会造成极大地麻烦。\n",
    "\n",
    "### 统计方法——你可以信任的伙伴\n",
    "对于上述几类问题的描述，我们可以运用统计学的手段来进行解决：\n",
    "\n",
    "* 数据收集\n",
    "* 描述性统计\n",
    "* 探索性数据分析（值得一提，虽然统计学这门学科从伦敦大瘟疫时代就开始萌芽，但是探索性数据分析则是1980年左右才开始的一项新的探索。瞧！我在这里的左右又让你们的数据价值降低了不少）\n",
    "* 假设检验\n",
    "* 估计"
   ]
  },
  {
   "cell_type": "markdown",
   "metadata": {},
   "source": [
    "## 描述性统计量\n",
    "### 均值和平均值\n",
    "假设一个包含n个值的样本Xi,他们的均值u就等于他们的值的总和除以值的数量，这是非常显而易见的事情，如公式：\n",
    "\n",
    "$$\\mu =\\frac{1}{n}\\sum x_{i}$$\n",
    "\n",
    "值得注意的是，在很多情况下均值(mean)和平均值(average)在很多情况下是相同的，但是在本质上依然是有区别的：\n",
    "\n",
    "* 样本的“均值”是根据公式计算出来的一个汇总统计量\n",
    "* 而“平均值”是若干种可以描述样本的典型值或者集中趋势的汇总统计量之一\n",
    "\n",
    "** 注意： 均值的使用 **"
   ]
  },
  {
   "cell_type": "code",
   "execution_count": 2,
   "metadata": {
    "collapsed": false
   },
   "outputs": [
    {
     "name": "stdout",
     "output_type": "stream",
     "text": [
      "1.75\n"
     ]
    }
   ],
   "source": [
    "import numpy as np\n",
    "apples = [1,2,1,3,1,2,3,1]\n",
    "mean_apples = np.mean(apples)\n",
    "print mean_apples"
   ]
  },
  {
   "cell_type": "code",
   "execution_count": 4,
   "metadata": {
    "collapsed": false
   },
   "outputs": [
    {
     "name": "stdout",
     "output_type": "stream",
     "text": [
      "106.666666667\n"
     ]
    }
   ],
   "source": [
    "duch = [10,10,300]\n",
    "mean_duch = np.mean(duch)\n",
    "print mean_duch"
   ]
  },
  {
   "cell_type": "markdown",
   "metadata": {},
   "source": [
    "### 方差\n",
    "上面的例子，很明显的说明了南瓜的平均值并不能很好的概括一个数组的情况，为了让问题能够解决，我们引入了方差。他既是平均值的助手也是均值的对立。\n",
    "\n",
    "* 方差能够很好的涵盖上述南瓜的问题\n",
    "* 方差描述分散情况而非集中趋势，这正好与均值的集中趋势相反\n",
    "\n",
    "$$\\sigma ^{2}=\\frac{1}{n}\\sum (x_{i}- \\mu )^{2}$$\n",
    "\n",
    "$$x_{i}- \\mu$$ \n",
    "\n",
    "这一部分是离均差，即方差是偏差的方均值。取方差的算术根就是标准差。\n",
    "\n",
    "相对于方差而言标准差的优势在于标准差的量纲是和统计量一致的。"
   ]
  },
  {
   "cell_type": "code",
   "execution_count": 5,
   "metadata": {
    "collapsed": false
   },
   "outputs": [
    {
     "name": "stdout",
     "output_type": "stream",
     "text": [
      "0.6875 18688.8888889\n"
     ]
    }
   ],
   "source": [
    "var_apples = np.var(apples)\n",
    "var_duch = np.var(duch)\n",
    "print var_apples, var_duch"
   ]
  },
  {
   "cell_type": "markdown",
   "metadata": {},
   "source": [
    "### 样本方差概览\n",
    "已经接触过概率论与数理统计或者统计学的人应该已经知道了样本方差这一概念，样本方差的具体概念将在后续继续谈论，这和无偏性有关，在此仅仅先给出一个公式：\n",
    "\n",
    "$$\\sigma ^{2}=\\frac{1}{n-1}\\sum (x_{i}- \\mu )^{2}$$\n",
    "\n",
    "### 分布\n",
    "对于数据而言，汇总统计量虽然简单明了，但是往往会带来很多的问题，也不能很细致入微的解决很多的问题，于是，分布这一概念就出现了。\n",
    "\n",
    "**分布：描述各个值出现的频繁程度**\n",
    "\n",
    "表示分布最常用的方法是直方图，不妨我们利用Python来给一个实例。下述代码块为Python应用的归一化格式。\n",
    "\n",
    "        # 归一化\n",
    "        hist = {}\n",
    "        for x in t:\n",
    "            hist[x] = hist.get(x, 0) + 1\n",
    "        # 概率化\n",
    "        n = float(len(t))\n",
    "        pmf = {}\n",
    "        for x, freq in hist.items():\n",
    "            pmf[x] = freq / n\n",
    "\n"
   ]
  },
  {
   "cell_type": "code",
   "execution_count": 6,
   "metadata": {
    "collapsed": false
   },
   "outputs": [
    {
     "name": "stdout",
     "output_type": "stream",
     "text": [
      "{1: 4, 2: 2, 3: 2}\n"
     ]
    }
   ],
   "source": [
    "hist_apples = {}\n",
    "for x in apples:\n",
    "    hist_apples[x] = hist_apples.get(x, 0) + 1\n",
    "print hist_apples"
   ]
  },
  {
   "cell_type": "code",
   "execution_count": 7,
   "metadata": {
    "collapsed": false
   },
   "outputs": [
    {
     "name": "stdout",
     "output_type": "stream",
     "text": [
      "{1: 0.5, 2: 0.25, 3: 0.25}\n"
     ]
    }
   ],
   "source": [
    "n = float(len(apples))\n",
    "pmf_apples = {} # PMF = Probability Mass Function\n",
    "for x, freq in hist_apples.items():\n",
    "    pmf_apples[x] = freq / n\n",
    "print pmf_apples"
   ]
  },
  {
   "cell_type": "markdown",
   "metadata": {},
   "source": [
    "#### 分布的绘画——直方图\n",
    "两种绘制直方图的方法，第一种是比较经典的采用matplotlib的方法。第二种则是采用交互式JS撰写的Bokeh的方法。后者可视性更强，前者非常简单。因此本教程中仅仅用mlt来完成演示，而Bokeh将在后期bokeh中专门讲述。"
   ]
  },
  {
   "cell_type": "code",
   "execution_count": 31,
   "metadata": {
    "collapsed": false
   },
   "outputs": [
    {
     "name": "stdout",
     "output_type": "stream",
     "text": [
      "Populating the interactive namespace from numpy and matplotlib\n",
      "[1, 2, 3] [0.5, 0.25, 0.25]\n"
     ]
    },
    {
     "name": "stderr",
     "output_type": "stream",
     "text": [
      "WARNING: pylab import has clobbered these variables: ['figure', 'show']\n",
      "`%matplotlib` prevents importing * from pylab and numpy\n"
     ]
    },
    {
     "data": {
      "image/png": "[encoded data removed]",
      "text/plain": [
       "<matplotlib.figure.Figure at 0xa88c8d0>"
      ]
     },
     "metadata": {},
     "output_type": "display_data"
    }
   ],
   "source": [
    "%pylab inline\n",
    "# matplotlib\n",
    "import  matplotlib.pyplot as plt  \n",
    "vals = pmf_apples.keys()\n",
    "freqs = pmf_apples.values()\n",
    "print vals, freqs\n",
    "plt.xlabel('Values')\n",
    "plt.ylabel('Probability')\n",
    "plt.title('Apples Hist')\n",
    "plt.bar(vals,freqs, alpha = .2, color = 'b')\n",
    "plt.show()"
   ]
  },
  {
   "cell_type": "markdown",
   "metadata": {},
   "source": [
    "直方图很有用，可以很直观的给出下列特征：\n",
    "\n",
    "* 众数：次数最多者，在本图中即为1\n",
    "* 形状：到底是对称还是不对称，是偏峰还是如何？\n",
    "* 异常值是如何？"
   ]
  },
  {
   "cell_type": "markdown",
   "metadata": {},
   "source": [
    "### 正态分布的图像"
   ]
  },
  {
   "cell_type": "code",
   "execution_count": 56,
   "metadata": {
    "collapsed": false
   },
   "outputs": [
    {
     "data": {
      "image/png": "[encoded data removed]",
      "text/plain": [
       "<matplotlib.figure.Figure at 0x1ff5aeb8>"
      ]
     },
     "metadata": {},
     "output_type": "display_data"
    }
   ],
   "source": [
    "import numpy as np\n",
    "from scipy.stats import norm\n",
    "import matplotlib.pyplot as plt\n",
    "\n",
    "# Generate some data for this demonstration.\n",
    "data = norm.rvs(10.0, 2.5, size=500)\n",
    "# Fit a normal distribution to the data:\n",
    "mu, std = norm.fit(data)\n",
    "# Plot the histogram.\n",
    "plt.hist(data, bins=25, normed=True, alpha=0.6, color='g')\n",
    "# Plot the PDF.\n",
    "xmin, xmax = plt.xlim()\n",
    "x = np.linspace(xmin, xmax, 100)\n",
    "p = norm.pdf(x, mu, std)\n",
    "plt.plot(x, p, 'k', linewidth=2)\n",
    "title = \"Fit results: mu = %.2f, std = %.2f\" % (mu, std)\n",
    "plt.title(title)\n",
    "plt.show()"
   ]
  },
  {
   "cell_type": "markdown",
   "metadata": {},
   "source": [
    "### 条件概率\n",
    "\n",
    "事件A在另外一个事件B已经发生条件下的发生概率。\n",
    "\n",
    "$$P(A|B)=\\frac{P(AB)}{P(B)}$$"
   ]
  },
  {
   "cell_type": "markdown",
   "metadata": {},
   "source": [
    "## 累积分布函数\n",
    "现在我们有一个关于上大课和小班的统计表：\n",
    "\n",
    "|人数|5~9|10~14|15~19|20~24|25~29|30~34|35~39|40~44|45~49|\n",
    "|---|---|---|---|\n",
    "|课程数|8|8|14|4|6|12|8|3|2|\n",
    "\n",
    "现在如果要获得和上述一样的PMF，均值应该这么做呢？对于分组数据，使用中点值是可以考虑的。"
   ]
  },
  {
   "cell_type": "code",
   "execution_count": 77,
   "metadata": {
    "collapsed": false
   },
   "outputs": [
    {
     "name": "stdout",
     "output_type": "stream",
     "text": [
      "[7, 12, 17, 22, 27, 32, 37, 42, 47] \n",
      "[8, 8, 14, 4, 6, 12, 8, 3, 2]\n"
     ]
    }
   ],
   "source": [
    "x = number_p = [i for i in range(7,50,5)]\n",
    "y = number_c = [8, 8, 14, 4, 6, 12, 8, 3, 2]\n",
    "print number_p,\"\\n\", number_c"
   ]
  },
  {
   "cell_type": "code",
   "execution_count": null,
   "metadata": {
    "collapsed": true
   },
   "outputs": [],
   "source": []
  }
 ],
 "metadata": {
  "kernelspec": {
   "display_name": "Python 2",
   "language": "python",
   "name": "python2"
  },
  "language_info": {
   "codemirror_mode": {
    "name": "ipython",
    "version": 2
   },
   "file_extension": ".py",
   "mimetype": "text/x-python",
   "name": "python",
   "nbconvert_exporter": "python",
   "pygments_lexer": "ipython2",
   "version": "2.7.10"
  }
 },
 "nbformat": 4,
 "nbformat_minor": 0
}
